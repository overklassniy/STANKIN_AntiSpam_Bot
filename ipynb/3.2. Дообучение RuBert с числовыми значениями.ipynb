{
 "cells": [
  {
   "cell_type": "markdown",
   "id": "66394d31-f89e-4a4b-bb65-0f4992f3fafc",
   "metadata": {},
   "source": [
    "# Дообучение RuBert для определения спам сообщений учитывая числовые данные"
   ]
  },
  {
   "cell_type": "markdown",
   "id": "4f84b9ab-2795-462d-bcfc-154df3503e9f",
   "metadata": {},
   "source": [
    "## Импорт необходимых библиотек"
   ]
  },
  {
   "cell_type": "code",
   "execution_count": 1,
   "id": "c854f009-7e71-4618-9e46-1322b8ed9cc0",
   "metadata": {},
   "outputs": [],
   "source": [
    "import pandas as pd\n",
    "import torch\n",
    "from torch.utils.data import Dataset, DataLoader\n",
    "from transformers import AutoTokenizer, AutoModel\n",
    "import torch.nn as nn\n",
    "import torch.nn.functional as F\n",
    "import torch.optim as optim\n",
    "from sklearn.metrics import classification_report"
   ]
  },
  {
   "cell_type": "code",
   "execution_count": 2,
   "id": "a4246075-8f4d-4651-b796-47cb4e6c6ee5",
   "metadata": {},
   "outputs": [],
   "source": [
    "import sys\n",
    "sys.path.append('../utils')\n",
    "from preprocessing import preprocess_text, count_emojis, count_whitespaces, count_links, count_tags"
   ]
  },
  {
   "cell_type": "code",
   "execution_count": 3,
   "id": "a16229c3-75eb-45d3-908f-bfeff9ae9731",
   "metadata": {},
   "outputs": [],
   "source": [
    "import json"
   ]
  },
  {
   "cell_type": "markdown",
   "id": "7ac5b6d2-6e4a-4e32-b290-deb1515bc14f",
   "metadata": {},
   "source": [
    "## Чтение обработанного датасета"
   ]
  },
  {
   "cell_type": "code",
   "execution_count": 4,
   "id": "b1ddea65-7fc3-4a5b-b9cc-30c8bf721fc1",
   "metadata": {},
   "outputs": [],
   "source": [
    "df = pd.read_csv('../data/preprocessed.csv', index_col=0)"
   ]
  },
  {
   "cell_type": "code",
   "execution_count": 5,
   "id": "e20c5580-b7d5-482b-a0f6-40dd1f356f96",
   "metadata": {},
   "outputs": [
    {
     "data": {
      "text/html": [
       "<div>\n",
       "<style scoped>\n",
       "    .dataframe tbody tr th:only-of-type {\n",
       "        vertical-align: middle;\n",
       "    }\n",
       "\n",
       "    .dataframe tbody tr th {\n",
       "        vertical-align: top;\n",
       "    }\n",
       "\n",
       "    .dataframe thead th {\n",
       "        text-align: right;\n",
       "    }\n",
       "</style>\n",
       "<table border=\"1\" class=\"dataframe\">\n",
       "  <thead>\n",
       "    <tr style=\"text-align: right;\">\n",
       "      <th></th>\n",
       "      <th>text</th>\n",
       "      <th>label</th>\n",
       "      <th>emojis</th>\n",
       "      <th>newlines</th>\n",
       "      <th>whitespaces</th>\n",
       "      <th>links</th>\n",
       "      <th>tags</th>\n",
       "      <th>text_preprocessed</th>\n",
       "    </tr>\n",
       "  </thead>\n",
       "  <tbody>\n",
       "    <tr>\n",
       "      <th>0</th>\n",
       "      <td>Добрый день! Отличается ли перечень необходимы...</td>\n",
       "      <td>0</td>\n",
       "      <td>0</td>\n",
       "      <td>0</td>\n",
       "      <td>0</td>\n",
       "      <td>0</td>\n",
       "      <td>0</td>\n",
       "      <td>добрый день отличается ли перечень необходимых...</td>\n",
       "    </tr>\n",
       "    <tr>\n",
       "      <th>1</th>\n",
       "      <td>Узбекистан. Рассматриваются обе формы</td>\n",
       "      <td>0</td>\n",
       "      <td>0</td>\n",
       "      <td>0</td>\n",
       "      <td>0</td>\n",
       "      <td>0</td>\n",
       "      <td>0</td>\n",
       "      <td>узбекистан рассматриваются обе формы</td>\n",
       "    </tr>\n",
       "    <tr>\n",
       "      <th>2</th>\n",
       "      <td>Здравствуйте, а как проходит поступление после...</td>\n",
       "      <td>0</td>\n",
       "      <td>0</td>\n",
       "      <td>0</td>\n",
       "      <td>0</td>\n",
       "      <td>0</td>\n",
       "      <td>0</td>\n",
       "      <td>здравствуйте а как проходит поступление после ...</td>\n",
       "    </tr>\n",
       "    <tr>\n",
       "      <th>3</th>\n",
       "      <td>Спасибо большое за ответ!</td>\n",
       "      <td>0</td>\n",
       "      <td>0</td>\n",
       "      <td>0</td>\n",
       "      <td>0</td>\n",
       "      <td>0</td>\n",
       "      <td>0</td>\n",
       "      <td>спасибо большое за ответ</td>\n",
       "    </tr>\n",
       "    <tr>\n",
       "      <th>4</th>\n",
       "      <td>Здравствуйте, а когда будет день открытых двер...</td>\n",
       "      <td>0</td>\n",
       "      <td>0</td>\n",
       "      <td>0</td>\n",
       "      <td>0</td>\n",
       "      <td>0</td>\n",
       "      <td>0</td>\n",
       "      <td>здравствуйте а когда будет день открытых двере...</td>\n",
       "    </tr>\n",
       "  </tbody>\n",
       "</table>\n",
       "</div>"
      ],
      "text/plain": [
       "                                                text  label  emojis  newlines  \\\n",
       "0  Добрый день! Отличается ли перечень необходимы...      0       0         0   \n",
       "1              Узбекистан. Рассматриваются обе формы      0       0         0   \n",
       "2  Здравствуйте, а как проходит поступление после...      0       0         0   \n",
       "3                          Спасибо большое за ответ!      0       0         0   \n",
       "4  Здравствуйте, а когда будет день открытых двер...      0       0         0   \n",
       "\n",
       "   whitespaces  links  tags                                  text_preprocessed  \n",
       "0            0      0     0  добрый день отличается ли перечень необходимых...  \n",
       "1            0      0     0               узбекистан рассматриваются обе формы  \n",
       "2            0      0     0  здравствуйте а как проходит поступление после ...  \n",
       "3            0      0     0                           спасибо большое за ответ  \n",
       "4            0      0     0  здравствуйте а когда будет день открытых двере...  "
      ]
     },
     "execution_count": 5,
     "metadata": {},
     "output_type": "execute_result"
    }
   ],
   "source": [
    "df.head()"
   ]
  },
  {
   "cell_type": "markdown",
   "id": "c6c8a4a2-b4cf-4ba7-bc53-fcd7fe926e01",
   "metadata": {},
   "source": [
    "## Обучение модели"
   ]
  },
  {
   "cell_type": "markdown",
   "id": "d4ddae83-f109-41cf-9476-cdce722e9b3d",
   "metadata": {},
   "source": [
    "### Подготовка выборок"
   ]
  },
  {
   "cell_type": "code",
   "execution_count": 6,
   "id": "a1014a3b-e994-471f-a148-e065880164e9",
   "metadata": {},
   "outputs": [],
   "source": [
    "text_data = df[\"text_preprocessed\"].tolist()"
   ]
  },
  {
   "cell_type": "code",
   "execution_count": 7,
   "id": "a25e5f09-2894-4a25-8dda-0f342789ec5b",
   "metadata": {},
   "outputs": [],
   "source": [
    "numeric_data = df[[\"emojis\", \"whitespaces\", \"links\", \"tags\"]].values"
   ]
  },
  {
   "cell_type": "code",
   "execution_count": 8,
   "id": "69fca935-1c35-479c-ba0d-b75cb4ecb600",
   "metadata": {},
   "outputs": [],
   "source": [
    "labels = df[\"label\"].values"
   ]
  },
  {
   "cell_type": "code",
   "execution_count": 9,
   "id": "5e5c0796-7821-4d01-8ef7-00e33f23c0ba",
   "metadata": {},
   "outputs": [],
   "source": [
    "# 2. Токенизация текста\n",
    "tokenizer = AutoTokenizer.from_pretrained(\"cointegrated/rubert-tiny2\")\n",
    "tokenized = tokenizer(\n",
    "    text_data,\n",
    "    padding=True,\n",
    "    truncation=True,\n",
    "    max_length=512,\n",
    "    return_tensors=\"pt\"\n",
    ")"
   ]
  },
  {
   "cell_type": "code",
   "execution_count": 10,
   "id": "580b457d-15e8-4922-a1b6-ad520ac6aac7",
   "metadata": {},
   "outputs": [],
   "source": [
    "numeric_features = torch.tensor(numeric_data, dtype=torch.float32)"
   ]
  },
  {
   "cell_type": "code",
   "execution_count": 11,
   "id": "bd4d1625-d488-49b5-8b94-3b691cef612b",
   "metadata": {},
   "outputs": [],
   "source": [
    "labels = torch.tensor(labels, dtype=torch.long)"
   ]
  },
  {
   "cell_type": "markdown",
   "id": "85bbe997-e1a5-461c-bce0-708cfb395426",
   "metadata": {},
   "source": [
    "Определение датасета"
   ]
  },
  {
   "cell_type": "code",
   "execution_count": 12,
   "id": "c7d1023e-2a00-4620-a2b7-072553dd7843",
   "metadata": {},
   "outputs": [],
   "source": [
    "class TextNumericDataset(Dataset):\n",
    "    def __init__(self, tokenized_text, numeric_features, labels):\n",
    "        self.input_ids = tokenized_text[\"input_ids\"]\n",
    "        self.attention_mask = tokenized_text[\"attention_mask\"]\n",
    "        self.numeric_features = numeric_features\n",
    "        self.labels = labels\n",
    "\n",
    "    def __len__(self):\n",
    "        return len(self.labels)\n",
    "\n",
    "    def __getitem__(self, idx):\n",
    "        return {\n",
    "            \"input_ids\": self.input_ids[idx],\n",
    "            \"attention_mask\": self.attention_mask[idx],\n",
    "            \"numeric_features\": self.numeric_features[idx],\n",
    "            \"label\": self.labels[idx],\n",
    "        }"
   ]
  },
  {
   "cell_type": "code",
   "execution_count": 13,
   "id": "86ff23a3-2c9d-49df-98c6-5c3bb927cbe0",
   "metadata": {},
   "outputs": [],
   "source": [
    "dataset = TextNumericDataset(tokenized, numeric_features, labels)"
   ]
  },
  {
   "cell_type": "code",
   "execution_count": 14,
   "id": "a26dddee-e614-4cce-9dc5-0a015624ba00",
   "metadata": {},
   "outputs": [],
   "source": [
    "train_loader = DataLoader(dataset, batch_size=16, shuffle=True)"
   ]
  },
  {
   "cell_type": "markdown",
   "id": "cb564251-9be6-4282-b054-6d253f790b35",
   "metadata": {},
   "source": [
    "### Определение модели"
   ]
  },
  {
   "cell_type": "code",
   "execution_count": 15,
   "id": "e6735804-2ae7-4c6c-8620-a3ffeac50a3e",
   "metadata": {},
   "outputs": [],
   "source": [
    "class RuBERTWithNumeric(nn.Module):\n",
    "    def __init__(self, text_model_name, numeric_input_dim, hidden_dim=256, output_dim=2):\n",
    "        super(RuBERTWithNumeric, self).__init__()\n",
    "        self.bert = AutoModel.from_pretrained(text_model_name)\n",
    "        self.bert_hidden_size = self.bert.config.hidden_size\n",
    "        self.numeric_fc = nn.Sequential(\n",
    "            nn.Linear(numeric_input_dim, 64),\n",
    "            nn.ReLU(),\n",
    "            nn.Linear(64, hidden_dim)\n",
    "        )\n",
    "        self.classifier = nn.Linear(self.bert_hidden_size + hidden_dim, output_dim)\n",
    "\n",
    "    def forward(self, input_ids, attention_mask, numeric_features):\n",
    "        bert_output = self.bert(input_ids=input_ids, attention_mask=attention_mask)\n",
    "        cls_embedding = bert_output.last_hidden_state[:, 0, :]\n",
    "        numeric_embedding = self.numeric_fc(numeric_features)\n",
    "        combined_features = torch.cat((cls_embedding, numeric_embedding), dim=1)\n",
    "        output = self.classifier(combined_features)\n",
    "        return output"
   ]
  },
  {
   "cell_type": "code",
   "execution_count": 16,
   "id": "34475a31-da01-45f1-8ca7-befeb86dceea",
   "metadata": {},
   "outputs": [],
   "source": [
    "device = torch.device(\"cuda\" if torch.cuda.is_available() else \"cpu\")"
   ]
  },
  {
   "cell_type": "code",
   "execution_count": 17,
   "id": "d70ccbee-fca5-46f6-adbf-6d01dc3e4c28",
   "metadata": {},
   "outputs": [
    {
     "data": {
      "text/plain": [
       "device(type='cuda')"
      ]
     },
     "execution_count": 17,
     "metadata": {},
     "output_type": "execute_result"
    }
   ],
   "source": [
    "device"
   ]
  },
  {
   "cell_type": "markdown",
   "id": "421e401e-a071-4897-be96-05168acb8449",
   "metadata": {},
   "source": [
    "Инициализация и обучение модели"
   ]
  },
  {
   "cell_type": "code",
   "execution_count": 18,
   "id": "de47aa1a-d73a-424f-a29f-a7e06aeecfb7",
   "metadata": {},
   "outputs": [
    {
     "name": "stdout",
     "output_type": "stream",
     "text": [
      "Эпоха 1 завершена, Средние потери: 0.0202\n",
      "Эпоха 2 завершена, Средние потери: 0.0034\n",
      "Эпоха 3 завершена, Средние потери: 0.0011\n",
      "Эпоха 4 завершена, Средние потери: 0.0005\n",
      "Эпоха 5 завершена, Средние потери: 0.0004\n"
     ]
    }
   ],
   "source": [
    "model = RuBERTWithNumeric(\"cointegrated/rubert-tiny2\", numeric_input_dim=4).to(device)\n",
    "criterion = nn.CrossEntropyLoss()\n",
    "optimizer = optim.AdamW(model.parameters(), lr=2e-5)\n",
    "\n",
    "num_epochs = 5\n",
    "for epoch in range(num_epochs):\n",
    "    model.train()\n",
    "    total_loss = 0\n",
    "    for batch_idx, batch in enumerate(train_loader):\n",
    "        input_ids = batch[\"input_ids\"].to(device)\n",
    "        attention_mask = batch[\"attention_mask\"].to(device)\n",
    "        numeric_features = batch[\"numeric_features\"].to(device)\n",
    "        labels = batch[\"label\"].to(device)\n",
    "\n",
    "        optimizer.zero_grad()\n",
    "        outputs = model(input_ids, attention_mask, numeric_features)\n",
    "        loss = criterion(outputs, labels)\n",
    "        loss.backward()\n",
    "        optimizer.step()\n",
    "\n",
    "        total_loss += loss.item()\n",
    "    print(f\"Эпоха {epoch + 1} завершена, Средние потери: {total_loss / len(train_loader):.4f}\")"
   ]
  },
  {
   "cell_type": "markdown",
   "id": "b621180d-f674-485d-b632-6b3f38275b22",
   "metadata": {},
   "source": [
    "## Сохранение"
   ]
  },
  {
   "cell_type": "code",
   "execution_count": 20,
   "id": "0933b616-17a0-4493-8154-0cab0ed9c672",
   "metadata": {},
   "outputs": [
    {
     "name": "stdout",
     "output_type": "stream",
     "text": [
      "Модель сохранена в ../models/finetuned_rubert_tiny2_with_numeric/model.pth\n"
     ]
    }
   ],
   "source": [
    "torch.save(model.state_dict(), \"../models/finetuned_rubert_tiny2_with_numeric/model.pth\")\n",
    "print(\"Модель сохранена в ../models/finetuned_rubert_tiny2_with_numeric/model.pth\")"
   ]
  },
  {
   "cell_type": "code",
   "execution_count": 21,
   "id": "a03bb47b-6488-4d44-bdc8-b790073ca11e",
   "metadata": {},
   "outputs": [],
   "source": [
    "model_config = {\n",
    "    \"text_model_name\": \"cointegrated/rubert-tiny2\",\n",
    "    \"numeric_input_dim\": 4,\n",
    "    \"hidden_dim\": 256,\n",
    "    \"output_dim\": 2\n",
    "}"
   ]
  },
  {
   "cell_type": "code",
   "execution_count": 22,
   "id": "a09d6650-357a-4ab1-b6bb-c3d8a04db664",
   "metadata": {},
   "outputs": [
    {
     "name": "stdout",
     "output_type": "stream",
     "text": [
      "Конфигурация модели сохранена в ../models/finetuned_rubert_tiny2_with_numeric/config.json\n"
     ]
    }
   ],
   "source": [
    "with open(\"../models/finetuned_rubert_tiny2_with_numeric/config.json\", \"w\") as f:\n",
    "    json.dump(model_config, f)\n",
    "print(\"Конфигурация модели сохранена в ../models/finetuned_rubert_tiny2_with_numeric/config.json\")"
   ]
  },
  {
   "cell_type": "code",
   "execution_count": 23,
   "id": "30620b25-7d9c-4c50-b72c-191ec15cd95f",
   "metadata": {},
   "outputs": [
    {
     "name": "stdout",
     "output_type": "stream",
     "text": [
      "Токенизатор сохранён в директорию ../models/finetuned_rubert_tiny2_with_numeric/\n"
     ]
    }
   ],
   "source": [
    "tokenizer.save_pretrained('../models/finetuned_rubert_tiny2_with_numeric/')\n",
    "print(\"Токенизатор сохранён в директорию ../models/finetuned_rubert_tiny2_with_numeric/\")"
   ]
  },
  {
   "cell_type": "markdown",
   "id": "7bd47679-0242-4f92-9747-934abe9c272a",
   "metadata": {},
   "source": [
    "## Загрузка"
   ]
  },
  {
   "cell_type": "markdown",
   "id": "3b514662-57ce-4ffe-9738-970a64e210cb",
   "metadata": {},
   "source": [
    "Тест загрузки модели и её архитектуры"
   ]
  },
  {
   "cell_type": "code",
   "execution_count": 24,
   "id": "7da40c4e-0422-4561-8abd-5dfba2543412",
   "metadata": {},
   "outputs": [],
   "source": [
    "with open(\"../models/finetuned_rubert_tiny2_with_numeric/config.json\", \"r\") as f:\n",
    "    loaded_config = json.load(f)"
   ]
  },
  {
   "cell_type": "code",
   "execution_count": 25,
   "id": "ec2bfbb6-5501-49c8-8b64-dafba5db6940",
   "metadata": {},
   "outputs": [
    {
     "name": "stdout",
     "output_type": "stream",
     "text": [
      "Модель успешно загружена\n"
     ]
    },
    {
     "name": "stderr",
     "output_type": "stream",
     "text": [
      "C:\\Users\\overklassniy\\AppData\\Local\\Temp\\ipykernel_3728\\3999636723.py:7: FutureWarning: You are using `torch.load` with `weights_only=False` (the current default value), which uses the default pickle module implicitly. It is possible to construct malicious pickle data which will execute arbitrary code during unpickling (See https://github.com/pytorch/pytorch/blob/main/SECURITY.md#untrusted-models for more details). In a future release, the default value for `weights_only` will be flipped to `True`. This limits the functions that could be executed during unpickling. Arbitrary objects will no longer be allowed to be loaded via this mode unless they are explicitly allowlisted by the user via `torch.serialization.add_safe_globals`. We recommend you start setting `weights_only=True` for any use case where you don't have full control of the loaded file. Please open an issue on GitHub for any issues related to this experimental feature.\n",
      "  loaded_model.load_state_dict(torch.load(\"../models/finetuned_rubert_tiny2_with_numeric/model.pth\"))\n"
     ]
    }
   ],
   "source": [
    "loaded_model = RuBERTWithNumeric(\n",
    "    text_model_name=loaded_config[\"text_model_name\"],\n",
    "    numeric_input_dim=loaded_config[\"numeric_input_dim\"],\n",
    "    hidden_dim=loaded_config[\"hidden_dim\"],\n",
    "    output_dim=loaded_config[\"output_dim\"]\n",
    ").to(device)\n",
    "loaded_model.load_state_dict(torch.load(\"../models/finetuned_rubert_tiny2_with_numeric/model.pth\"))\n",
    "loaded_model.eval()\n",
    "print(\"Модель успешно загружена\")"
   ]
  },
  {
   "cell_type": "code",
   "execution_count": 26,
   "id": "2a89e867-4894-4fbd-87bb-334a7943b7f5",
   "metadata": {},
   "outputs": [
    {
     "name": "stdout",
     "output_type": "stream",
     "text": [
      "Токенизатор успешно загружен из директории ../models/finetuned_rubert_tiny2_with_numeric/\n"
     ]
    }
   ],
   "source": [
    "loaded_tokenizer = AutoTokenizer.from_pretrained(\"../models/finetuned_rubert_tiny2_with_numeric/\")\n",
    "print(\"Токенизатор успешно загружен из директории ../models/finetuned_rubert_tiny2_with_numeric/\")"
   ]
  },
  {
   "cell_type": "markdown",
   "id": "27d52cfb-66cf-4778-aa04-d720fedaa94e",
   "metadata": {},
   "source": [
    "##### Без предобработки данных"
   ]
  },
  {
   "cell_type": "code",
   "execution_count": null,
   "id": "99948ce7-ead9-4e07-9bad-48d43ee94008",
   "metadata": {},
   "outputs": [],
   "source": [
    "rb_trainer.train()"
   ]
  },
  {
   "cell_type": "code",
   "execution_count": null,
   "id": "9351179a-072f-47b5-892a-bbff98f9816b",
   "metadata": {},
   "outputs": [],
   "source": [
    "rb_trainer.evaluate()"
   ]
  },
  {
   "cell_type": "markdown",
   "id": "ba5af69b-0d32-470e-a32e-c610251379d0",
   "metadata": {},
   "source": [
    "Сохранение модели"
   ]
  },
  {
   "cell_type": "code",
   "execution_count": null,
   "id": "a7e164db-c323-40bf-bc0e-5a7f8cc5b625",
   "metadata": {},
   "outputs": [],
   "source": [
    "rb_model.save_pretrained(\"../models/finetuned_rubert_tiny2\")\n",
    "tokenizer.save_pretrained(\"../models/finetuned_rubert_tiny2\")"
   ]
  },
  {
   "cell_type": "markdown",
   "id": "0734a684-879b-4f68-a89e-a860bfb50952",
   "metadata": {},
   "source": [
    "##### С предобработкой данных"
   ]
  },
  {
   "cell_type": "code",
   "execution_count": null,
   "id": "327e9fb1-4059-41c1-9b06-aacbc10045b0",
   "metadata": {},
   "outputs": [],
   "source": [
    "rb_trainer_p.train()"
   ]
  },
  {
   "cell_type": "code",
   "execution_count": null,
   "id": "b4bde0e4-8b01-47ed-bb0d-16a2cfdf45ba",
   "metadata": {},
   "outputs": [],
   "source": [
    "rb_trainer_p.evaluate()"
   ]
  },
  {
   "cell_type": "markdown",
   "id": "29201b46-73ab-4a31-ae4f-535a73f0da21",
   "metadata": {},
   "source": [
    "Сохранение модели"
   ]
  },
  {
   "cell_type": "code",
   "execution_count": null,
   "id": "6b0fcf82-9e08-4b0e-932a-3bf66fc6483d",
   "metadata": {},
   "outputs": [],
   "source": [
    "rb_model.save_pretrained(\"../models/finetuned_rubert_tiny2_p\")\n",
    "tokenizer.save_pretrained(\"../models/finetuned_rubert_tiny2_p\")"
   ]
  },
  {
   "cell_type": "markdown",
   "id": "8ef21f64-792a-4cbf-a034-641a5c6d687b",
   "metadata": {},
   "source": [
    "## Оценка качества модели"
   ]
  },
  {
   "cell_type": "code",
   "execution_count": 28,
   "id": "dd020b14-eee2-4b65-94c3-83f59d20f1a6",
   "metadata": {},
   "outputs": [],
   "source": [
    "# Тестовые сообщения\n",
    "test_messages = [\n",
    "    \"Это честное сообщение от пользователя.\",\n",
    "    \"🔥 Казино онлайн! Зарабатывай миллионы прямо сейчас! 💰💎\",\n",
    "    \"Зарабатывай миллионы **онлайн** прямо сейчас!\",\n",
    "    \"Работа на дому, легкий доход. Пиши в личку!\",\n",
    "    \"Привет! Как дела? У меня всё отлично.\",\n",
    "    \"Discover the hidden secrets of the digital market that top traders don’t want you to know! I’m seeking five motivated individuals who are committed to earning over $100K weekly in the digital market. Once you start seeing profits, I’ll require just 15% of your earnings as my fee. Please note: I’m only interested in working with five serious and dedicated people should send me a direct message or ask me (HOW) via TELEGRAM\\n\\nhttps://t.me/ancleroyofficial\",\n",
    "    \"Discover the hidden secrets of the digital market that top traders don’t want you to know! I’m seeking five motivated individuals who are committed to earning over $100K weekly in the digital market. Once you start seeing profits, I’ll require just 15% of your earnings as my fee. Please note: I’m only interested in working with five serious and dedicated people should send me a direct message or click the link on my bio\",\n",
    "    \"steam gift 50$ - steamcommunity.com/gift-card/pay/50\\n@everyone\",\n",
    "    \"Давайте **вместе** будем писать про казино в чатах!!! Присоединяйтесь!\",\n",
    "    \"Как же надоели эти сообщения про казино\",\n",
    "    \"Добрый день. Для подачи документов необходимо пройти регистрацию здесь: stankin.ru\",\n",
    "    \"Добрый день. Для подачи документов необходимо пройти регистрацию здесь: https://stankin.ru\",\n",
    "    \"Поступление – это почти что казино! Лотерея!\"\n",
    "]"
   ]
  },
  {
   "cell_type": "code",
   "execution_count": 29,
   "id": "8cf6631b-74a8-4974-a49a-f1f33697d1c8",
   "metadata": {},
   "outputs": [],
   "source": [
    "tokenized = loaded_tokenizer(\n",
    "    test_messages,\n",
    "    padding=True,\n",
    "    truncation=True,\n",
    "    max_length=512,\n",
    "    return_tensors=\"pt\"\n",
    ")"
   ]
  },
  {
   "cell_type": "code",
   "execution_count": 30,
   "id": "b01cea1b-38a7-4da0-8faf-843d8cddaca1",
   "metadata": {},
   "outputs": [],
   "source": [
    "numeric_data = [[count_emojis(d), count_whitespaces(d), count_links(d), count_tags(d)] for d in test_messages]"
   ]
  },
  {
   "cell_type": "code",
   "execution_count": 31,
   "id": "50e220b3-3104-4114-964f-249a1955599a",
   "metadata": {},
   "outputs": [],
   "source": [
    "numeric_features = torch.tensor(numeric_data, dtype=torch.float32).to(device)"
   ]
  },
  {
   "cell_type": "code",
   "execution_count": 39,
   "id": "00be746b-265d-48ec-b8dd-0b3f71bf5307",
   "metadata": {},
   "outputs": [],
   "source": [
    "# Передача данных в модель\n",
    "with torch.no_grad():\n",
    "    input_ids = tokenized[\"input_ids\"].to(device)\n",
    "    attention_mask = tokenized[\"attention_mask\"].to(device)\n",
    "    outputs = loaded_model(input_ids, attention_mask, numeric_features)\n",
    "    predictions = torch.argmax(outputs, dim=1)\n",
    "    probabilities = F.softmax(outputs, dim=1)"
   ]
  },
  {
   "cell_type": "code",
   "execution_count": 40,
   "id": "6ebc281d-3023-45bf-8b3f-ac13e3906804",
   "metadata": {},
   "outputs": [],
   "source": [
    "results_pred = predictions.cpu().numpy()\n",
    "results_proba = probabilities.cpu().numpy()"
   ]
  },
  {
   "cell_type": "code",
   "execution_count": 45,
   "id": "be44d83e-0e8a-4c0d-b6cf-3286f3b06104",
   "metadata": {},
   "outputs": [
    {
     "name": "stdout",
     "output_type": "stream",
     "text": [
      "Сообщение: Это честное сообщение от пользователя.\n",
      "Класс: 0\n",
      "Вероятности: [0.9999695, 3.06e-05]\n",
      "\n",
      "Сообщение: 🔥 Казино онлайн! Зарабатывай миллионы прямо сейчас! 💰💎\n",
      "Класс: 1\n",
      "Вероятности: [0.0006408, 0.9993592]\n",
      "\n",
      "Сообщение: Зарабатывай миллионы **онлайн** прямо сейчас!\n",
      "Класс: 1\n",
      "Вероятности: [0.0091884, 0.9908117]\n",
      "\n",
      "Сообщение: Работа на дому, легкий доход. Пиши в личку!\n",
      "Класс: 0\n",
      "Вероятности: [0.980187, 0.019813]\n",
      "\n",
      "Сообщение: Привет! Как дела? У меня всё отлично.\n",
      "Класс: 0\n",
      "Вероятности: [0.9999599, 4.01e-05]\n",
      "\n",
      "Сообщение: Discover the hidden secrets of the digital market that top traders don’t want you to know! I’m seeking five motivated individuals who are committed to earning over $100K weekly in the digital market. Once you start seeing profits, I’ll require just 15% of your earnings as my fee. Please note: I’m only interested in working with five serious and dedicated people should send me a direct message or ask me (HOW) via TELEGRAM\n",
      "\n",
      "https://t.me/ancleroyofficial\n",
      "Класс: 1\n",
      "Вероятности: [0.0003003, 0.9996997]\n",
      "\n",
      "Сообщение: Discover the hidden secrets of the digital market that top traders don’t want you to know! I’m seeking five motivated individuals who are committed to earning over $100K weekly in the digital market. Once you start seeing profits, I’ll require just 15% of your earnings as my fee. Please note: I’m only interested in working with five serious and dedicated people should send me a direct message or click the link on my bio\n",
      "Класс: 1\n",
      "Вероятности: [0.0002807, 0.9997193]\n",
      "\n",
      "Сообщение: steam gift 50$ - steamcommunity.com/gift-card/pay/50\n",
      "@everyone\n",
      "Класс: 1\n",
      "Вероятности: [0.0002199, 0.9997801]\n",
      "\n",
      "Сообщение: Давайте **вместе** будем писать про казино в чатах!!! Присоединяйтесь!\n",
      "Класс: 1\n",
      "Вероятности: [0.0041095, 0.9958905]\n",
      "\n",
      "Сообщение: Как же надоели эти сообщения про казино\n",
      "Класс: 0\n",
      "Вероятности: [0.9999305, 6.95e-05]\n",
      "\n",
      "Сообщение: Добрый день. Для подачи документов необходимо пройти регистрацию здесь: stankin.ru\n",
      "Класс: 0\n",
      "Вероятности: [0.9999421, 5.79e-05]\n",
      "\n",
      "Сообщение: Добрый день. Для подачи документов необходимо пройти регистрацию здесь: https://stankin.ru\n",
      "Класс: 0\n",
      "Вероятности: [0.9999181, 8.19e-05]\n",
      "\n",
      "Сообщение: Поступление – это почти что казино! Лотерея!\n",
      "Класс: 1\n",
      "Вероятности: [0.0225855, 0.9774145]\n",
      "\n"
     ]
    }
   ],
   "source": [
    "for message_i in range(len(test_messages)):\n",
    "    pred = results_pred[message_i]\n",
    "    probas = results_proba[message_i]\n",
    "    print(f\"Сообщение: {test_messages[message_i]}\")\n",
    "    print(f\"Класс: {pred}\")\n",
    "    print(f\"Вероятности: {[float(f'{prob:.7f}') for prob in probas]}\\n\")"
   ]
  }
 ],
 "metadata": {
  "kernelspec": {
   "display_name": "pytorch118-venv",
   "language": "python",
   "name": "pytorch118-venv"
  },
  "language_info": {
   "codemirror_mode": {
    "name": "ipython",
    "version": 3
   },
   "file_extension": ".py",
   "mimetype": "text/x-python",
   "name": "python",
   "nbconvert_exporter": "python",
   "pygments_lexer": "ipython3",
   "version": "3.12.2"
  }
 },
 "nbformat": 4,
 "nbformat_minor": 5
}
